{
 "cells": [
  {
   "cell_type": "code",
   "execution_count": null,
   "id": "f32e3e3c",
   "metadata": {},
   "outputs": [
    {
     "name": "stderr",
     "output_type": "stream",
     "text": [
      "Fetching Tweets:  43%|████▎     | 2236/5234 [07:57<10:40,  4.68tweet/s]"
     ]
    },
    {
     "name": "stdout",
     "output_type": "stream",
     "text": [
      "No more pages to fetch.\n"
     ]
    },
    {
     "name": "stderr",
     "output_type": "stream",
     "text": [
      "\n"
     ]
    }
   ],
   "source": [
    "import requests\n",
    "import pandas as pd\n",
    "from tqdm import tqdm\n",
    "import time\n",
    "\n",
    "# Base URL for the advanced search endpoint\n",
    "url = 'https://api.twitterapi.io/twitter/tweet/advanced_search'\n",
    "\n",
    "# Your API key for authorization\n",
    "headers = {'x-api-key': 'rahasia-1234567890'}\n",
    "\n",
    "# Initial parameters for the first request\n",
    "params = {\n",
    "    \"query\": \"Ijazah Presiden Jokowi\",  # Example search query\n",
    "    \"queryType\": \"Latest\",  # Options: 'Latest' or 'Top'\n",
    "    \"cursor\": \"\",  # Start with an empty cursor for the first page\n",
    "}\n",
    "\n",
    "# Initialize a list to store all tweets\n",
    "all_tweets = []\n",
    "\n",
    "# Set the target number of tweets\n",
    "target_tweet_count = 5234\n",
    "\n",
    "# Initialize the progress bar with tqdm\n",
    "with tqdm(total=target_tweet_count, desc=\"Fetching Tweets\", unit=\"tweet\") as pbar:\n",
    "    while True:\n",
    "        # Send the GET request to the API\n",
    "        response = requests.get(url, headers=headers, params=params)\n",
    "\n",
    "        # Check if the request was successful\n",
    "        if response.status_code == 200:\n",
    "            # Parse the response data as JSON\n",
    "            data = response.json()\n",
    "\n",
    "            # Collect tweets from the current page\n",
    "            all_tweets.extend(data['tweets'])\n",
    "\n",
    "            # Update the progress bar based on the number of tweets fetched\n",
    "            pbar.update(len(data['tweets']))\n",
    "\n",
    "            # Get the next_cursor value for the next page of results\n",
    "            next_cursor = data.get('next_cursor', None)\n",
    "\n",
    "            # If there's no next_cursor, it means we've reached the last page\n",
    "            if not next_cursor:\n",
    "                print(\"No more pages to fetch.\")\n",
    "                break\n",
    "\n",
    "            # If the target tweet count is reached, stop fetching more tweets\n",
    "            tweet_count = len(all_tweets)\n",
    "            if tweet_count >= target_tweet_count:\n",
    "                print(f\"Reached the target of {tweet_count} tweets.\")\n",
    "                break\n",
    "\n",
    "            # Update the cursor parameter for the next request\n",
    "            params[\"cursor\"] = next_cursor\n",
    "\n",
    "            # Optionally, add a small delay between requests to avoid rate limits\n",
    "            time.sleep(1)\n",
    "\n",
    "        else:\n",
    "            print(f\"Failed to fetch tweets. Status code: {response.status_code}\")\n",
    "            break\n",
    "\n",
    "# Convert collected tweet data into a DataFrame\n",
    "df_tweets = pd.DataFrame(all_tweets)\n",
    "\n",
    "# Optionally, you can save the DataFrame to a CSV file\n",
    "df_tweets.to_csv('tweets2.csv', index=False)  # Save to CSV file\n",
    "\n",
    "# Print a message once data collection is done\n",
    "# print(f\"Data collection complete. Saved {len(df_tweets)} tweets to 'tweets.csv'.\")\n"
   ]
  },
  {
   "cell_type": "code",
   "execution_count": 23,
   "id": "f4e125e4",
   "metadata": {},
   "outputs": [
    {
     "data": {
      "text/plain": [
       "0     *HASIL PERSIDANGAN TERBUKTI IJAZAH JOKOWI PALS...\n",
       "1     KORUPSI DAN IJAZAH PALSU JOKOWI MENDUNIA... \\n...\n",
       "2     Ijazahnya tertanggal 5/11/1985. Skripsinya bar...\n",
       "3     \"Bodohnya Kroco Ijazah Palsu\"\\n\\nNunjukin ijaz...\n",
       "4     Coba Cek Lagi Ijazah Kalian...\\n\\nKhawatir PAL...\n",
       "5     Ijazah Jokowi asli sesuai pengakuan ugm.\\n\\nTe...\n",
       "6     Ijazah palsu itu biasanya terjadi ketika pihak...\n",
       "7     _*\"100%\" ijazah Jokowi \"PALSU\". Ujian Skripsi ...\n",
       "8     *HASIL PERSIDANGAN TERBUKTI IJAZAH JOKOWI PALS...\n",
       "9     @DokterTifa @SianiparRismon\\n@msaid_didu @abu_...\n",
       "10    Ijazah yg kataY asli disebar oleh Kader PSI  (...\n",
       "11    JOKOWI TERPOJOK...‼️🐸🔨\\n\\nIJAZAH ITU PUNYA HAR...\n",
       "12    \"Bareskrim menyatakan ijazah Jokowi asli tanpa...\n",
       "13    Politikus Ali Mochtar Ngabalin menyebut kasus ...\n",
       "14    \"Ijazah Palsu Jokowi untuk pilpres dibuat oleh...\n",
       "15    Bikin Malu  Dunia,  Jokowi terduga Pakai Ijaza...\n",
       "16    @G0LIATH87 Ijazah Jokowi asli sesuai pengakuan...\n",
       "17    Polisi menghentikan kasus dugaan ijazah palsu ...\n",
       "18    @xquitavee @jokowi Ijazah Jokowi asli sesuai p...\n",
       "19    Bareskrim Polri telah melakukan penyidikan ter...\n",
       "20    Penuduh Ijazah Palsu mulai goyah sehingga tabr...\n",
       "21    Ketua Umum PDI Perjuangan Megawati Soekarnoput...\n",
       "22    Roy Suryo Sebut Laporan Jokowi soal Ijazah Pal...\n",
       "23    Apakah ini bukti bahwa 2017 lalu, UGM bersama ...\n",
       "24    Semoga ijazah pak @jokowi nanti terbukti asli ...\n",
       "25    @xquitavee Ijazah Jokowi asli sesuai pengakuan...\n",
       "26    Jokowi:\\n\"Saya serahkan ijazah asli universita...\n",
       "27    @tham878 Ijazah Jokowi asli sesuai pengakuan u...\n",
       "28    Mantan Menteri Pemudan dan Olah Raga Roy Suryo...\n",
       "29    Teman SMA Pak Jokowi pun tidak akan diam saat ...\n",
       "30    Mantan Menteri Pemuda dan Olahraga (Menpora) R...\n",
       "31    Refly Harun soal Roy Suryo diperiksa Polisi ka...\n",
       "32    Jokowi saat menjabat sebagai Presiden RI tenan...\n",
       "33    Jokowi  itu manusia Sadar dan Normal.\\n\\n Jika...\n",
       "34    Penuh Nilai C dan D di Transkip Nilai, Terkuak...\n",
       "35    Projo: Harusnya Bu Mega Minta Penuduh Hentikan...\n",
       "36    jOKOWI TERANCAM PIDANA KETERANGAN PALSU IJAZAH...\n",
       "37    Projo mengutarakan IJAZAH PALSU, \\nSeperti ini...\n",
       "38    @geloraco @JimlyAs Walaupun Anda Bermain 2 Sis...\n",
       "39    Bareskrim Polri memutuskan menghentikan penyel...\n",
       "Name: text, dtype: object"
      ]
     },
     "execution_count": 23,
     "metadata": {},
     "output_type": "execute_result"
    }
   ],
   "source": [
    "df_tweets.text"
   ]
  },
  {
   "cell_type": "code",
   "execution_count": 25,
   "id": "548f1391",
   "metadata": {},
   "outputs": [
    {
     "data": {
      "text/plain": [
       "0       Konteks video yang Anda tanyakan tampaknya ter...\n",
       "1       Hasil Survei INDIKATOR\\n\\nPERCAYA JOKOWI MEMAL...\n",
       "2       Penuh Nilai C dan D di Transkip Nilai, Terkuak...\n",
       "3       @79Hasrudin @Simemaki @DokterTifa Secara tdk l...\n",
       "4       @Simemaki @DokterTifa Dg munculnya foto ini se...\n",
       "                              ...                        \n",
       "2231    Prabowo Singgung Isu Ijazah Palsu dan Ogah Dis...\n",
       "2232    @democrazymedia Dalam sejarah hanya Jokowi man...\n",
       "2233    Kasus tudingan ijazah Presiden RI ke-7, Jokowi...\n",
       "2234    @xquitavee @jokowi @KRMTRoySuryo2 @DokterTifa ...\n",
       "2235    @xquitavee @jokowi Gak bisa. Meskipun yg jelas...\n",
       "Name: text, Length: 2236, dtype: object"
      ]
     },
     "execution_count": 25,
     "metadata": {},
     "output_type": "execute_result"
    }
   ],
   "source": [
    "df_tweets.text"
   ]
  }
 ],
 "metadata": {
  "kernelspec": {
   "display_name": "Python 3",
   "language": "python",
   "name": "python3"
  },
  "language_info": {
   "codemirror_mode": {
    "name": "ipython",
    "version": 3
   },
   "file_extension": ".py",
   "mimetype": "text/x-python",
   "name": "python",
   "nbconvert_exporter": "python",
   "pygments_lexer": "ipython3",
   "version": "3.10.3"
  }
 },
 "nbformat": 4,
 "nbformat_minor": 5
}
